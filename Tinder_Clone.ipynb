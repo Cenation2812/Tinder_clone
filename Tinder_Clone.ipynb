{
  "nbformat": 4,
  "nbformat_minor": 0,
  "metadata": {
    "colab": {
      "name": "Tinder Clone.ipynb",
      "provenance": [],
      "collapsed_sections": []
    },
    "kernelspec": {
      "name": "python3",
      "display_name": "Python 3"
    },
    "language_info": {
      "name": "python"
    }
  },
  "cells": [
    {
      "cell_type": "code",
      "metadata": {
        "id": "PxCYc5Lwe7H_"
      },
      "source": [
        "import firebase_admin"
      ],
      "execution_count": null,
      "outputs": []
    },
    {
      "cell_type": "code",
      "metadata": {
        "id": "B_V-AtS9fDW7"
      },
      "source": [
        "from firebase_admin import auth,credentials,firestore"
      ],
      "execution_count": null,
      "outputs": []
    },
    {
      "cell_type": "code",
      "metadata": {
        "id": "-MQFygZdfIUV",
        "colab": {
          "base_uri": "https://localhost:8080/",
          "height": 317
        },
        "outputId": "ccec7cec-2a99-4172-ca91-9ac1cf4751c3"
      },
      "source": [
        "cred = credentials.Certificate(\"/content/tinder-api-clone-1fd2c-firebase-adminsdk-fvs9t-05d5ef9a45.json\")\n",
        "firebase_admin.initialize_app(cred)\n",
        "store=firestore.client()"
      ],
      "execution_count": null,
      "outputs": [
        {
          "output_type": "error",
          "ename": "FileNotFoundError",
          "evalue": "ignored",
          "traceback": [
            "\u001b[0;31m---------------------------------------------------------------------------\u001b[0m",
            "\u001b[0;31mFileNotFoundError\u001b[0m                         Traceback (most recent call last)",
            "\u001b[0;32m<ipython-input-3-c713fa491808>\u001b[0m in \u001b[0;36m<module>\u001b[0;34m()\u001b[0m\n\u001b[0;32m----> 1\u001b[0;31m \u001b[0mcred\u001b[0m \u001b[0;34m=\u001b[0m \u001b[0mcredentials\u001b[0m\u001b[0;34m.\u001b[0m\u001b[0mCertificate\u001b[0m\u001b[0;34m(\u001b[0m\u001b[0;34m\"/content/tinder-api-clone-1fd2c-firebase-adminsdk-fvs9t-05d5ef9a45.json\"\u001b[0m\u001b[0;34m)\u001b[0m\u001b[0;34m\u001b[0m\u001b[0;34m\u001b[0m\u001b[0m\n\u001b[0m\u001b[1;32m      2\u001b[0m \u001b[0mfirebase_admin\u001b[0m\u001b[0;34m.\u001b[0m\u001b[0minitialize_app\u001b[0m\u001b[0;34m(\u001b[0m\u001b[0mcred\u001b[0m\u001b[0;34m)\u001b[0m\u001b[0;34m\u001b[0m\u001b[0;34m\u001b[0m\u001b[0m\n\u001b[1;32m      3\u001b[0m \u001b[0mstore\u001b[0m\u001b[0;34m=\u001b[0m\u001b[0mfirestore\u001b[0m\u001b[0;34m.\u001b[0m\u001b[0mclient\u001b[0m\u001b[0;34m(\u001b[0m\u001b[0;34m)\u001b[0m\u001b[0;34m\u001b[0m\u001b[0;34m\u001b[0m\u001b[0m\n",
            "\u001b[0;32m/usr/local/lib/python3.7/dist-packages/firebase_admin/credentials.py\u001b[0m in \u001b[0;36m__init__\u001b[0;34m(self, cert)\u001b[0m\n\u001b[1;32m     80\u001b[0m         \u001b[0msuper\u001b[0m\u001b[0;34m(\u001b[0m\u001b[0mCertificate\u001b[0m\u001b[0;34m,\u001b[0m \u001b[0mself\u001b[0m\u001b[0;34m)\u001b[0m\u001b[0;34m.\u001b[0m\u001b[0m__init__\u001b[0m\u001b[0;34m(\u001b[0m\u001b[0;34m)\u001b[0m\u001b[0;34m\u001b[0m\u001b[0;34m\u001b[0m\u001b[0m\n\u001b[1;32m     81\u001b[0m         \u001b[0;32mif\u001b[0m \u001b[0misinstance\u001b[0m\u001b[0;34m(\u001b[0m\u001b[0mcert\u001b[0m\u001b[0;34m,\u001b[0m \u001b[0mstr\u001b[0m\u001b[0;34m)\u001b[0m\u001b[0;34m:\u001b[0m\u001b[0;34m\u001b[0m\u001b[0;34m\u001b[0m\u001b[0m\n\u001b[0;32m---> 82\u001b[0;31m             \u001b[0;32mwith\u001b[0m \u001b[0mopen\u001b[0m\u001b[0;34m(\u001b[0m\u001b[0mcert\u001b[0m\u001b[0;34m)\u001b[0m \u001b[0;32mas\u001b[0m \u001b[0mjson_file\u001b[0m\u001b[0;34m:\u001b[0m\u001b[0;34m\u001b[0m\u001b[0;34m\u001b[0m\u001b[0m\n\u001b[0m\u001b[1;32m     83\u001b[0m                 \u001b[0mjson_data\u001b[0m \u001b[0;34m=\u001b[0m \u001b[0mjson\u001b[0m\u001b[0;34m.\u001b[0m\u001b[0mload\u001b[0m\u001b[0;34m(\u001b[0m\u001b[0mjson_file\u001b[0m\u001b[0;34m)\u001b[0m\u001b[0;34m\u001b[0m\u001b[0;34m\u001b[0m\u001b[0m\n\u001b[1;32m     84\u001b[0m         \u001b[0;32melif\u001b[0m \u001b[0misinstance\u001b[0m\u001b[0;34m(\u001b[0m\u001b[0mcert\u001b[0m\u001b[0;34m,\u001b[0m \u001b[0mdict\u001b[0m\u001b[0;34m)\u001b[0m\u001b[0;34m:\u001b[0m\u001b[0;34m\u001b[0m\u001b[0;34m\u001b[0m\u001b[0m\n",
            "\u001b[0;31mFileNotFoundError\u001b[0m: [Errno 2] No such file or directory: '/content/tinder-api-clone-1fd2c-firebase-adminsdk-fvs9t-05d5ef9a45.json'"
          ]
        }
      ]
    },
    {
      "cell_type": "code",
      "metadata": {
        "id": "sKNOeUhhfg07"
      },
      "source": [
        "# Auth code"
      ],
      "execution_count": null,
      "outputs": []
    },
    {
      "cell_type": "code",
      "metadata": {
        "colab": {
          "base_uri": "https://localhost:8080/"
        },
        "id": "tL3_SEaihST4",
        "outputId": "60e6621f-e9af-4dac-8c5a-36e3aa11b971"
      },
      "source": [
        "#Login code\n",
        "try:\n",
        "  user=auth.get_user_by_email(\"shourjadeepdat@gmail.com\")\n",
        "except:\n",
        "  print(\"No user found\")\n",
        "#print(user.uid)"
      ],
      "execution_count": null,
      "outputs": [
        {
          "output_type": "stream",
          "text": [
            "No user found\n"
          ],
          "name": "stdout"
        }
      ]
    },
    {
      "cell_type": "code",
      "metadata": {
        "id": "7Dw90MGgifd5"
      },
      "source": [
        "def signup(EmailOfUser,PasswordOfUser):\n",
        "  uid=\"\"\n",
        "  message=\"\"\n",
        "  try:\n",
        "    user = auth.create_user(\n",
        "        email=EmailOfUser,\n",
        "        email_verified=False,\n",
        "        password=PasswordOfUser)\n",
        "    message=\"Successfully created new user\"\n",
        "    uid=user.uid\n",
        "  except:\n",
        "    message=\"User already exists\"\n",
        "  \n",
        "  return {\"uid\":uid,\"message\":message}"
      ],
      "execution_count": null,
      "outputs": []
    },
    {
      "cell_type": "code",
      "metadata": {
        "id": "IntjufJtlgyz",
        "colab": {
          "base_uri": "https://localhost:8080/"
        },
        "outputId": "9176039c-8d3d-4f31-b23c-082807305892"
      },
      "source": [
        "signup(\"sanchita_datta@yahoo.com\",\"dodo1408\")"
      ],
      "execution_count": null,
      "outputs": [
        {
          "output_type": "execute_result",
          "data": {
            "text/plain": [
              "{'message': 'User already exists', 'uid': ''}"
            ]
          },
          "metadata": {
            "tags": []
          },
          "execution_count": 9
        }
      ]
    },
    {
      "cell_type": "code",
      "metadata": {
        "id": "EsxCqXKrLJMp"
      },
      "source": [
        "def login(EmailOfUser,PasswordOfUser):\n",
        "  uid=\"\"\n",
        "  message=\"\"\n",
        "  try:\n",
        "    user=auth.get_user_by_email(EmailOfUser)\n",
        "    message=\"Woohooo!!!!, successfully logged in\"\n",
        "    uid=user.uid\n",
        "  except:\n",
        "    message=\"OOPS!!, no user found\"\n",
        "  \n",
        "  return {\"uid\":uid,\"message\":message}"
      ],
      "execution_count": null,
      "outputs": []
    },
    {
      "cell_type": "code",
      "metadata": {
        "colab": {
          "base_uri": "https://localhost:8080/"
        },
        "id": "TR_u0HHeNT_t",
        "outputId": "c865575a-8217-4c89-cddf-9b4b8963ce83"
      },
      "source": [
        "login(\"shourjadeepdatt@gmail.com\",\"dodo@2812\")"
      ],
      "execution_count": null,
      "outputs": [
        {
          "output_type": "execute_result",
          "data": {
            "text/plain": [
              "{'message': 'OOPS!!, no user found', 'uid': ''}"
            ]
          },
          "metadata": {
            "tags": []
          },
          "execution_count": 14
        }
      ]
    },
    {
      "cell_type": "code",
      "metadata": {
        "id": "yrQZVMYiNtx-"
      },
      "source": [
        "# Creating the User profile\n",
        "\n",
        "#1. Name\n",
        "#2. Image\n",
        "#3. Desp\n",
        "'''4. Location\n",
        "  1. Lat lng\n",
        "  2. City\n",
        "  3. state\n",
        "  4. country\n",
        "5. Job\n",
        "6. Passion\n",
        "7. Company\n",
        "8. Gender\n",
        "9. DOB/Age\n",
        "10. Number'''\n",
        "\n",
        "\n",
        "user_data={}\n",
        "\n",
        "user_data[\"name\"]=\"Prachi\"\n",
        "user_data[\"Image\"]=\"gs://tinder-api-clone-1fd2c.appspot.com/InShot_20200109_204623574 (1).jpg\"\n",
        "user_data[\"Desp\"]=\"Amazing person\"\n",
        "user_data[\"Location\"]={\"Latitude\":27.2046,\"Longitude\":77.4977,\"City\":\"London\",\"State\":\"YK\",\"Country\":\"England\"}\n",
        "user_data[\"Job\"]=\"Game developer\"\n",
        "user_data[\"Passion\"]=\"Teacher\"\n",
        "user_data[\"Company\"]=\"DJ Sanghvi College\"\n",
        "user_data[\"Gender\"]=\"Female\"\n",
        "user_data[\"DOB\"]=\"30th December 2000\"\n",
        "user_data[\"Number\"]=\"9284573820\"\n",
        "user_data[\"CreatedAt\"]=firestore.SERVER_TIMESTAMP"
      ],
      "execution_count": null,
      "outputs": []
    },
    {
      "cell_type": "code",
      "metadata": {
        "id": "7cInrP13QZa-"
      },
      "source": [
        "def userUpdateInfo(uid,user_data):\n",
        "  user_info={}\n",
        "  user_info[\"name\"]=user_data[\"name\"]\n",
        "  user_info[\"Image\"]=user_data[\"Image\"]\n",
        "  user_info[\"Desp\"]=user_data[\"Desp\"]\n",
        "  user_info[\"Location\"]=user_data[\"Location\"]\n",
        "  user_info[\"Job\"]=user_data[\"Job\"]\n",
        "  user_info[\"Passion\"]=user_data[\"Passion\"]\n",
        "  user_info[\"Company\"]=user_data[\"Company\"]\n",
        "  user_info[\"Gender\"]=user_data[\"Gender\"]\n",
        "  user_info[\"DOB\"]=user_data[\"DOB\"]\n",
        "  user_info[\"Number\"]=user_data[\"Number\"]\n",
        "  user_info[\"CreatedAt\"]=user_data[\"CreatedAt\"]\n",
        "\n",
        "  store.collection(\"abc\").document(uid).set(user_info)"
      ],
      "execution_count": null,
      "outputs": []
    },
    {
      "cell_type": "code",
      "metadata": {
        "id": "sRWm6JPaTJA6"
      },
      "source": [
        "userUpdateInfo(\"52fQrHnyRqXTzOezfSP8Fx9tnPx2\",user_data)"
      ],
      "execution_count": null,
      "outputs": []
    },
    {
      "cell_type": "code",
      "metadata": {
        "id": "ebskaGR9TWZe"
      },
      "source": [
        "# Feed function\n",
        "\n",
        "def feed(Country):\n",
        "  docs=store.collection(\"abc\").stream()\n",
        "  dit={}\n",
        "  for doc in docs:\n",
        "    if doc.to_dict().get(\"Location\").get(\"Country\") == Country:\n",
        "      dit[doc.id]=doc.to_dict()\n",
        "\n",
        "  return dit"
      ],
      "execution_count": null,
      "outputs": []
    },
    {
      "cell_type": "code",
      "metadata": {
        "id": "MK4IILfqV5se"
      },
      "source": [
        "allProfiles=feed(\"England\")"
      ],
      "execution_count": null,
      "outputs": []
    },
    {
      "cell_type": "code",
      "metadata": {
        "colab": {
          "base_uri": "https://localhost:8080/"
        },
        "id": "8mKlT_nQV-Aw",
        "outputId": "65017f60-f839-437b-a5cd-3531a9c485f0"
      },
      "source": [
        "allProfiles"
      ],
      "execution_count": null,
      "outputs": [
        {
          "output_type": "execute_result",
          "data": {
            "text/plain": [
              "{'52fQrHnyRqXTzOezfSP8Fx9tnPx2': {'Company': 'DJ Sanghvi College',\n",
              "  'CreatedAt': DatetimeWithNanoseconds(2021, 3, 23, 9, 20, 24, 633000, tzinfo=<UTC>),\n",
              "  'DOB': '30th December 2000',\n",
              "  'Desp': 'Amazing person',\n",
              "  'Gender': 'Female',\n",
              "  'Image': 'gs://tinder-api-clone-1fd2c.appspot.com/InShot_20200109_204623574 (1).jpg',\n",
              "  'Job': 'Game developer',\n",
              "  'Location': {'City': 'London',\n",
              "   'Country': 'England',\n",
              "   'Latitude': 27.2046,\n",
              "   'Longitude': 77.4977,\n",
              "   'State': 'YK'},\n",
              "  'Number': '9284573820',\n",
              "  'Passion': 'Teacher',\n",
              "  'name': 'Prachi'}}"
            ]
          },
          "metadata": {
            "tags": []
          },
          "execution_count": 40
        }
      ]
    },
    {
      "cell_type": "code",
      "metadata": {
        "id": "Hzh6OgOVWAUu"
      },
      "source": [
        "# Swipe function\n",
        "\n",
        "def Swipe(uidA,uidB,isYesA,isYesB,firstTime):\n",
        "  dit={}\n",
        "  dit[\"UIDA\"]=uidA\n",
        "  dit[\"UIDB\"]=uidB\n",
        "  dit[\"UserA_reply\"]=isYesA\n",
        "  dit[\"UserB_reply\"]=isYesB\n",
        "  dit[\"viewedAtleastOnce\"]=firstTime\n",
        "  dit[\"CreatedAt\"]=firestore.SERVER_TIMESTAMP\n",
        "\n",
        "  store.collection(\"Swipes\").add(dit)"
      ],
      "execution_count": null,
      "outputs": []
    },
    {
      "cell_type": "code",
      "metadata": {
        "id": "q46BbLKEs9Nm"
      },
      "source": [
        "uidA=\"52fQrHnyRqXTzOezfSP8Fx9tnPo1\"\n",
        "uidB=\"52fQrHnyRqXTzOezfSP8Fx9tnPx2\"\n",
        "isYesA=True\n",
        "isYesB=False\n",
        "firstTime=False\n",
        "\n",
        "Swipe(uidA,uidB,isYesA,isYesB,firstTime)"
      ],
      "execution_count": null,
      "outputs": []
    },
    {
      "cell_type": "code",
      "metadata": {
        "id": "ectQbbM3tffi"
      },
      "source": [
        "#Match function\n",
        "\n",
        "def Match(uid):\n",
        "  docs=store.collection(\"Swipes\").stream()\n",
        "  match_dit={}\n",
        "  for doc in docs:\n",
        "    if (doc.to_dict().get(\"UIDA\") == uid or doc.to_dict().get(\"UIDB\") == uid) and (doc.to_dict().get(\"UserA_reply\") == True and doc.to_dict().get(\"UserB_reply\") == True):\n",
        "      match_dit[doc.id]=doc.to_dict()\n",
        "\n",
        "\n",
        "  return match_dit"
      ],
      "execution_count": null,
      "outputs": []
    },
    {
      "cell_type": "code",
      "metadata": {
        "colab": {
          "base_uri": "https://localhost:8080/"
        },
        "id": "WH8lvpfmwU_8",
        "outputId": "5735e9d6-99c9-4b08-eb5e-9dc833577b49"
      },
      "source": [
        "Match(\"52fQrHnyRqXTzOezfSP8Fx9tnPx2\")"
      ],
      "execution_count": null,
      "outputs": [
        {
          "output_type": "execute_result",
          "data": {
            "text/plain": [
              "{'mOXOVVzT8gWFZBlUZJCJ': {'CreatedAt': DatetimeWithNanoseconds(2021, 3, 23, 10, 59, 57, 728000, tzinfo=<UTC>),\n",
              "  'UIDA': '52fQrHnyRqXTzOezfSP8Fx9tnPo1',\n",
              "  'UIDB': '52fQrHnyRqXTzOezfSP8Fx9tnPx2',\n",
              "  'UserA_reply': True,\n",
              "  'UserB_reply': True,\n",
              "  'viewedAtleastOnce': False}}"
            ]
          },
          "metadata": {
            "tags": []
          },
          "execution_count": 50
        }
      ]
    },
    {
      "cell_type": "code",
      "metadata": {
        "id": "ErSxHPvNwb_i"
      },
      "source": [
        ""
      ],
      "execution_count": null,
      "outputs": []
    }
  ]
}